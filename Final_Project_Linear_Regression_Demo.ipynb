{
  "nbformat": 4,
  "nbformat_minor": 0,
  "metadata": {
    "colab": {
      "provenance": []
    },
    "kernelspec": {
      "name": "python3",
      "display_name": "Python 3"
    },
    "language_info": {
      "name": "python"
    }
  },
  "cells": [
    {
      "cell_type": "code",
      "execution_count": null,
      "metadata": {
        "id": "kxOeiYRQzHhu"
      },
      "outputs": [],
      "source": [
        "!pip install gradio"
      ]
    },
    {
      "cell_type": "code",
      "source": [
        "import pickle\n",
        "import numpy as np\n",
        "from sklearn.preprocessing import LabelEncoder\n",
        "\n",
        "\n",
        "# Load model and scaler\n",
        "features_file = open(\"scaler.dat\", \"rb\")\n",
        "model_file = open(\"linear_reg_best_model.saved\", \"rb\")\n",
        "feature_scaler = pickle.load(features_file)\n",
        "model = pickle.load(model_file)\n",
        "\n",
        "#regions = {\"southwest\": 3, \"southeast\": 2, \"northwest\": 1,\"northeast\": 0}\n",
        "def execute_inference_pipeline(age, bmi, children, sex_1, smoke_1, regions):\n",
        "    features = np.array([[age, bmi, children, sex_1, smoke_1, regions]])\n",
        "    scale_features = np.array([[age, bmi, children, sex_1, smoke_1]])\n",
        "    scaled_features = feature_scaler.transform(scale_features)\n",
        "    final_features =np.column_stack((scaled_features, regions))\n",
        "    prediction = model.predict(final_features)\n",
        "    return prediction[0]"
      ],
      "metadata": {
        "id": "AWBldiNA2ME9"
      },
      "execution_count": null,
      "outputs": []
    },
    {
      "cell_type": "markdown",
      "source": [
        "# **Building Web UI**"
      ],
      "metadata": {
        "id": "Fa0vBRKS3RfU"
      }
    },
    {
      "cell_type": "code",
      "source": [
        "# Create input and output components for Gradio\n",
        "import gradio as gr\n",
        "inputs = [\n",
        "    gr.Number(label=\"age\"),\n",
        "    gr.Number(label=\"bmi\"),\n",
        "    gr.Number(label=\"children\"),\n",
        "    gr.Number(label=\"sex_1\"),\n",
        "    gr.Number(label=\"smoke_1\"),\n",
        "    gr.Number(label=\"Region: northeast: 0, northwest: 1, southeast: 2 ,southwest: 3\")\n",
        "\n",
        "\n",
        "]\n",
        "\n",
        "output = gr.Textbox(label=\"Prediction\")"
      ],
      "metadata": {
        "id": "bE_1H8bI3VJE"
      },
      "execution_count": null,
      "outputs": []
    },
    {
      "cell_type": "code",
      "source": [
        "# Create Gradio interface\n",
        "gr.Interface(\n",
        "    fn=execute_inference_pipeline,\n",
        "    inputs=inputs,\n",
        "    outputs=output,\n",
        "    title=\"Medical Insurance Cost Prediction\",\n",
        "    description=\"Enter patient information to predict insurance cost.\"\n",
        ").launch(debug = True)"
      ],
      "metadata": {
        "colab": {
          "base_uri": "https://localhost:8080/",
          "height": 719
        },
        "id": "slFC2RuR3gu0",
        "outputId": "4d5e4509-5b0b-43df-8fa1-cc1bb55f5134"
      },
      "execution_count": null,
      "outputs": [
        {
          "output_type": "stream",
          "name": "stdout",
          "text": [
            "Setting queue=True in a Colab notebook requires sharing enabled. Setting `share=True` (you can turn this off by setting `share=False` in `launch()` explicitly).\n",
            "\n",
            "Colab notebook detected. This cell will run indefinitely so that you can see errors and logs. To turn off, set debug=False in launch().\n",
            "Running on public URL: https://d151c871f2afc14ede.gradio.live\n",
            "\n",
            "This share link expires in 72 hours. For free permanent hosting and GPU upgrades, run `gradio deploy` from Terminal to deploy to Spaces (https://huggingface.co/spaces)\n"
          ]
        },
        {
          "output_type": "display_data",
          "data": {
            "text/plain": [
              "<IPython.core.display.HTML object>"
            ],
            "text/html": [
              "<div><iframe src=\"https://d151c871f2afc14ede.gradio.live\" width=\"100%\" height=\"500\" allow=\"autoplay; camera; microphone; clipboard-read; clipboard-write;\" frameborder=\"0\" allowfullscreen></iframe></div>"
            ]
          },
          "metadata": {}
        },
        {
          "output_type": "stream",
          "name": "stderr",
          "text": [
            "/usr/local/lib/python3.10/dist-packages/sklearn/base.py:439: UserWarning: X does not have valid feature names, but MinMaxScaler was fitted with feature names\n",
            "  warnings.warn(\n"
          ]
        },
        {
          "output_type": "stream",
          "name": "stdout",
          "text": [
            "Keyboard interruption in main thread... closing server.\n",
            "Killing tunnel 127.0.0.1:7861 <> https://d151c871f2afc14ede.gradio.live\n"
          ]
        },
        {
          "output_type": "execute_result",
          "data": {
            "text/plain": []
          },
          "metadata": {},
          "execution_count": 16
        }
      ]
    }
  ]
}